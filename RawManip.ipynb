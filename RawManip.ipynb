{
 "cells": [
  {
   "cell_type": "code",
   "execution_count": 21,
   "metadata": {},
   "outputs": [
    {
     "name": "stdout",
     "output_type": "stream",
     "text": [
      "Populating the interactive namespace from numpy and matplotlib\n"
     ]
    }
   ],
   "source": [
    "%pylab qt5\n",
    "import rawpy\n",
    "from rawpy import FBDDNoiseReductionMode, HighlightMode, ColorSpace, DemosaicAlgorithm\n",
    "from skimage.exposure import equalize_adapthist\n",
    "#import cv2"
   ]
  },
  {
   "cell_type": "code",
   "execution_count": 36,
   "metadata": {},
   "outputs": [
    {
     "name": "stdout",
     "output_type": "stream",
     "text": [
      "RawType.Flat\n"
     ]
    }
   ],
   "source": [
    "#region = ()\n",
    "with rawpy.imread(\"/Users/jonny/Downloads/E-M5-III-034.ORF\") as raw:\n",
    "    rgb = raw.postprocess()\n",
    "    print(raw.raw_type)\n",
    "    raw_img = raw.raw_image.copy()\n",
    "    rgb_linear = raw.postprocess(demosaic_algorithm=None, half_size=False, four_color_rgb=False, dcb_iterations=0, dcb_enhance=False, \n",
    "                                 fbdd_noise_reduction=FBDDNoiseReductionMode.Off, noise_thr=None, median_filter_passes=0, use_camera_wb=False, \n",
    "                                 use_auto_wb=False, user_wb=None, output_color=ColorSpace.sRGB, output_bps=16, user_flip=None, user_black=None, \n",
    "                                 user_sat=None, no_auto_bright=False, auto_bright_thr=None, adjust_maximum_thr=0.75, bright=1.0, \n",
    "                                 highlight_mode=HighlightMode.Clip, exp_shift=None, exp_preserve_highlights=0.0, no_auto_scale=False, gamma=(1,1), \n",
    "                                 chromatic_aberration=None, bad_pixels_path=None)\n",
    "    \n",
    "    rgb_gamma4 = raw.postprocess(demosaic_algorithm=None, half_size=False, four_color_rgb=False, dcb_iterations=0, dcb_enhance=False, \n",
    "                                 fbdd_noise_reduction=FBDDNoiseReductionMode.Off, noise_thr=None, median_filter_passes=0, use_camera_wb=False, \n",
    "                                 use_auto_wb=False, user_wb=None, output_color=ColorSpace.sRGB, output_bps=16, user_flip=None, user_black=None, \n",
    "                                 user_sat=None, no_auto_bright=False, auto_bright_thr=None, adjust_maximum_thr=0.75, bright=1.0, \n",
    "                                 highlight_mode=HighlightMode.Clip, exp_shift=None, exp_preserve_highlights=0.0, no_auto_scale=False, gamma=(4,1000), \n",
    "                                 chromatic_aberration=None, bad_pixels_path=None)\n",
    "    \n",
    "    rgb_gamma22 = raw.postprocess(demosaic_algorithm=None, half_size=False, four_color_rgb=False, dcb_iterations=0, dcb_enhance=False, \n",
    "                                 fbdd_noise_reduction=FBDDNoiseReductionMode.Off, noise_thr=None, median_filter_passes=0, use_camera_wb=False, \n",
    "                                 use_auto_wb=False, user_wb=None, output_color=ColorSpace.sRGB, output_bps=16, user_flip=None, user_black=None, \n",
    "                                 user_sat=None, no_auto_bright=False, auto_bright_thr=None, adjust_maximum_thr=0.75, bright=1.0, \n",
    "                                 highlight_mode=HighlightMode.Clip, exp_shift=None, exp_preserve_highlights=0.0, no_auto_scale=False, gamma=(2.2,72), \n",
    "                                 chromatic_aberration=None, bad_pixels_path=None)\n",
    "    \n",
    "    rgb_adapt_cont = equalize_adapthist(rgb_gamma4, kernel_size=256)\n",
    "    \n",
    "    #plt.figure()\n",
    "    #plt.plot(raw.tone_curve)\n",
    "    \n",
    "    plt.figure()\n",
    "    plt.hist(raw_img.ravel(), bins = 256)\n",
    "    \n",
    "    plt.figure()\n",
    "    plt.hist(raw_img.ravel()**(1./4), bins = 512)"
   ]
  },
  {
   "cell_type": "code",
   "execution_count": 30,
   "metadata": {},
   "outputs": [],
   "source": [
    "f = plt.figure(figsize=(9,4))\n",
    "plt.subplot(121)\n",
    "plt.imshow(raw_img, cmap='gray')\n",
    "plt.subplot(122)\n",
    "plt.imshow(raw_img[1163:1789, 1000:1625], cmap='gray')\n",
    "plt.tight_layout()\n",
    "f.savefig(\"PicsTemp/raw.png\", dpi=200)\n",
    "\n",
    "f = plt.figure(figsize=(9,4))\n",
    "plt.subplot(121)\n",
    "plt.imshow(rgb)\n",
    "plt.subplot(122)\n",
    "plt.imshow(rgb[1163:1789, 1000:1625,:])\n",
    "plt.tight_layout()"
   ]
  },
  {
   "cell_type": "code",
   "execution_count": 37,
   "metadata": {},
   "outputs": [],
   "source": [
    "f = plt.figure(figsize=(9,4))\n",
    "plt.title('Linear')\n",
    "plt.subplot(121)\n",
    "plt.imshow(rgb_linear.astype(np.float64)/65535)\n",
    "plt.subplot(122)\n",
    "plt.imshow(rgb_linear[1163:1789, 1000:1625,:].astype(np.float64)/65535)\n",
    "plt.tight_layout()\n",
    "f.savefig(\"PicsTemp/linear_rgb.png\", dpi=200)\n",
    "\n",
    "f = plt.figure(figsize=(9,4))\n",
    "plt.title(r'$\\gamma = 1/2.2$')\n",
    "plt.subplot(121)\n",
    "plt.imshow(rgb_gamma22.astype(np.float64)/65535)\n",
    "plt.subplot(122)\n",
    "plt.imshow(rgb_gamma22[1163:1789, 1000:1625,:].astype(np.float64)/65535)\n",
    "plt.tight_layout()\n",
    "f.savefig(\"PicsTemp/gamma22_rgb.png\", dpi=200)\n",
    "\n",
    "f = plt.figure(figsize=(9,4))\n",
    "plt.title(r'$\\gamma = 1/4$')\n",
    "plt.subplot(121)\n",
    "plt.imshow(rgb_gamma4.astype(np.float64)/65535)\n",
    "plt.subplot(122)\n",
    "plt.imshow(rgb_gamma4[1163:1789, 1000:1625,:].astype(np.float64)/65535)\n",
    "plt.tight_layout()\n",
    "f.savefig(\"PicsTemp/gamma4_rgb.png\", dpi=200)\n",
    "\n",
    "f = plt.figure(figsize=(9,4))\n",
    "plt.title(r'$\\gamma = 1/4$ w/local contrast')\n",
    "plt.subplot(121)\n",
    "plt.imshow(rgb_adapt_cont)\n",
    "plt.subplot(122)\n",
    "plt.imshow(rgb_adapt_cont[1163:1789, 1000:1625,:])\n",
    "plt.tight_layout()\n",
    "f.savefig(\"PicsTemp/gamma4_local_contrast_rgb.png\", dpi=200)"
   ]
  },
  {
   "cell_type": "code",
   "execution_count": 18,
   "metadata": {},
   "outputs": [
    {
     "data": {
      "text/plain": [
       "<matplotlib.image.AxesImage at 0x1744f9cd0>"
      ]
     },
     "execution_count": 18,
     "metadata": {},
     "output_type": "execute_result"
    }
   ],
   "source": []
  },
  {
   "cell_type": "code",
   "execution_count": null,
   "metadata": {},
   "outputs": [],
   "source": []
  }
 ],
 "metadata": {
  "kernelspec": {
   "display_name": "Python 3",
   "language": "python",
   "name": "python3"
  },
  "language_info": {
   "codemirror_mode": {
    "name": "ipython",
    "version": 3
   },
   "file_extension": ".py",
   "mimetype": "text/x-python",
   "name": "python",
   "nbconvert_exporter": "python",
   "pygments_lexer": "ipython3",
   "version": "3.7.4"
  }
 },
 "nbformat": 4,
 "nbformat_minor": 4
}
